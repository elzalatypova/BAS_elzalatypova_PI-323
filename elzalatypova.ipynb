{
  "nbformat": 4,
  "nbformat_minor": 0,
  "metadata": {
    "colab": {
      "name": "elzalatypova.ipynb",
      "provenance": [],
      "collapsed_sections": []
    },
    "kernelspec": {
      "name": "python3",
      "display_name": "Python 3"
    },
    "language_info": {
      "name": "python"
    }
  },
  "cells": [
    {
      "cell_type": "code",
      "execution_count": null,
      "metadata": {
        "id": "6GggWQfTeQQl"
      },
      "outputs": [],
      "source": [
        ""
      ]
    },
    {
      "cell_type": "markdown",
      "source": [
        "**Задание 1 - Греческий алфавит:**\n",
        "\n",
        "заглавная| строчная | название\n",
        "------|:--------:|------:\n",
        "Α     | α     | альфа\n",
        "Β     | β     | бета\n",
        "Γ     | γ     | гамма\n",
        "Δ     | δ     | дельта\n",
        "Ε     | ε     | эпсилон\n",
        "Ζ     | ζ     | дзета\n",
        "Η     | η     | эта\n",
        "Θ     | θ, ϑ  | тета\n",
        "Ι     | ι     | йота\n",
        "Κ     | κ, 𝜘  | каппа\n",
        "Λ     | λ     | лямбда\n",
        "Μ     | μ     | мю\n",
        "Ν     | ν     | ню\n",
        "Ξ     | ξ     | кси\n",
        "Ο     | ο     | омикрон\n",
        "Π     | π     | пи\n",
        "Ρ     | ρ     | ро\n",
        "Σ     | σ,Ϛ   | сигма\n",
        "Τ     | τ     | тау\n",
        "Υ     | υ     | ипсилон\n",
        "Φ     | φ, ϕ  | фи\n",
        "Χ     | χ     | хи\n",
        "Ψ     | ψ     | пси\n",
        "Ω     | ω     | омега\n",
        "\n",
        "**Задание 2 - Формула нормального рапсределения:**\n",
        "${\\displaystyle f(x)={\\frac {1}{\\sigma {\\sqrt {2\\pi }}}}e^{-{\\frac {1}{2}}\\left({\\frac {x-\\mu }{\\sigma }}\\right)^{2}}}$\n"
      ],
      "metadata": {
        "id": "P5AOf65aecYP"
      }
    }
  ]
}